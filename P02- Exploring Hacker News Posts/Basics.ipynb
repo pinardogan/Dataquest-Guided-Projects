{
 "cells": [
  {
   "cell_type": "markdown",
   "metadata": {
    "collapsed": true
   },
   "source": [
    "# Guided Project : Exploring Hacker News Posts\n",
    "-Our first mission is to have a comparison between \"Ask HN\" and \"Show HN\" posts. We'll compare the average number of comments as well as the times of the comments."
   ]
  },
  {
   "cell_type": "code",
   "execution_count": 1,
   "metadata": {
    "collapsed": false
   },
   "outputs": [
    {
     "name": "stdout",
     "output_type": "stream",
     "text": [
      "[['id', 'title', 'url', 'num_points', 'num_comments', 'author', 'created_at'], ['12224879', 'Interactive Dynamic Video', 'http://www.interactivedynamicvideo.com/', '386', '52', 'ne0phyte', '8/4/2016 11:52'], ['10975351', 'How to Use Open Source and Shut the Fuck Up at the Same Time', 'http://hueniverse.com/2016/01/26/how-to-use-open-source-and-shut-the-fuck-up-at-the-same-time/', '39', '10', 'josep2', '1/26/2016 19:30'], ['11964716', \"Florida DJs May Face Felony for April Fools' Water Joke\", 'http://www.thewire.com/entertainment/2013/04/florida-djs-april-fools-water-joke/63798/', '2', '1', 'vezycash', '6/23/2016 22:20'], ['11919867', 'Technology ventures: From Idea to Enterprise', 'https://www.amazon.com/Technology-Ventures-Enterprise-Thomas-Byers/dp/0073523429', '3', '1', 'hswarna', '6/17/2016 0:01'], ['10301696', 'Note by Note: The Making of Steinway L1037 (2007)', 'http://www.nytimes.com/2007/11/07/movies/07stein.html?_r=0', '8', '2', 'walterbell', '9/30/2015 4:12']]\n"
     ]
    }
   ],
   "source": [
    "from csv import reader\n",
    "opened_file = open(\"hacker_news.csv\")\n",
    "read_file = reader(opened_file)\n",
    "hn = list(read_file)\n",
    "print(hn[:6])"
   ]
  },
  {
   "cell_type": "code",
   "execution_count": 2,
   "metadata": {
    "collapsed": false
   },
   "outputs": [
    {
     "name": "stdout",
     "output_type": "stream",
     "text": [
      "[['id', 'title', 'url', 'num_points', 'num_comments', 'author', 'created_at']]\n",
      "[['12224879', 'Interactive Dynamic Video', 'http://www.interactivedynamicvideo.com/', '386', '52', 'ne0phyte', '8/4/2016 11:52'], ['10975351', 'How to Use Open Source and Shut the Fuck Up at the Same Time', 'http://hueniverse.com/2016/01/26/how-to-use-open-source-and-shut-the-fuck-up-at-the-same-time/', '39', '10', 'josep2', '1/26/2016 19:30'], ['11964716', \"Florida DJs May Face Felony for April Fools' Water Joke\", 'http://www.thewire.com/entertainment/2013/04/florida-djs-april-fools-water-joke/63798/', '2', '1', 'vezycash', '6/23/2016 22:20'], ['11919867', 'Technology ventures: From Idea to Enterprise', 'https://www.amazon.com/Technology-Ventures-Enterprise-Thomas-Byers/dp/0073523429', '3', '1', 'hswarna', '6/17/2016 0:01'], ['10301696', 'Note by Note: The Making of Steinway L1037 (2007)', 'http://www.nytimes.com/2007/11/07/movies/07stein.html?_r=0', '8', '2', 'walterbell', '9/30/2015 4:12'], ['10482257', 'Title II kills investment? Comcast and other ISPs are now spending more', 'http://arstechnica.com/business/2015/10/comcast-and-other-isps-boost-network-investment-despite-net-neutrality/', '53', '22', 'Deinos', '10/31/2015 9:48']]\n"
     ]
    }
   ],
   "source": [
    "headers = hn[:1]\n",
    "hn = hn[1:]\n",
    "print(headers)\n",
    "print(hn[:6])"
   ]
  },
  {
   "cell_type": "code",
   "execution_count": 27,
   "metadata": {
    "collapsed": false
   },
   "outputs": [
    {
     "name": "stdout",
     "output_type": "stream",
     "text": [
      "The number of posts in Ask Posts are: 1738\n",
      "The number of posts in Show Posts are: 1162\n",
      "The number of other posts are:17200\n",
      "[['12296411', 'Ask HN: How to improve my personal website?', '', '2', '6', 'ahmedbaracat', '8/16/2016 9:55'], ['10610020', 'Ask HN: Am I the only one outraged by Twitter shutting down share counts?', '', '28', '29', 'tkfx', '11/22/2015 13:43'], ['11610310', 'Ask HN: Aby recent changes to CSS that broke mobile?', '', '1', '1', 'polskibus', '5/2/2016 10:14'], ['12210105', 'Ask HN: Looking for Employee #3 How do I do it?', '', '1', '3', 'sph130', '8/2/2016 14:20'], ['10394168', 'Ask HN: Someone offered to buy my browser extension from me. What now?', '', '28', '17', 'roykolak', '10/15/2015 16:38']]\n",
      "**************************************************\n",
      "[['10627194', 'Show HN: Wio Link  ESP8266 Based Web of Things Hardware Development Platform', 'https://iot.seeed.cc', '26', '22', 'kfihihc', '11/25/2015 14:03'], ['10646440', 'Show HN: Something pointless I made', 'http://dn.ht/picklecat/', '747', '102', 'dhotson', '11/29/2015 22:46'], ['11590768', 'Show HN: Shanhu.io, a programming playground powered by e8vm', 'https://shanhu.io', '1', '1', 'h8liu', '4/28/2016 18:05'], ['12178806', 'Show HN: Webscope  Easy way for web developers to communicate with Clients', 'http://webscopeapp.com', '3', '3', 'fastbrick', '7/28/2016 7:11'], ['10872799', 'Show HN: GeoScreenshot  Easily test Geo-IP based web pages', 'https://www.geoscreenshot.com/', '1', '9', 'kpsychwave', '1/9/2016 20:45']]\n"
     ]
    }
   ],
   "source": [
    "#finding the number of ask hn, show hn and other posts:\n",
    "ask_posts = []\n",
    "show_posts = []\n",
    "other_posts = []\n",
    "\n",
    "for row in hn:\n",
    "    title = row[1]\n",
    "    if title.lower().startswith('ask hn:'):\n",
    "        ask_posts.append(row)\n",
    "    elif title.lower().startswith('show hn:'):\n",
    "        show_posts.append(row)\n",
    "    else:\n",
    "        other_posts.append(row)\n",
    "\n",
    "        \n",
    "print(\"The number of posts in Ask Posts are: {}\\nThe number of posts in Show Posts are: {}\\nThe number of other posts are:{}\".format(len(ask_posts),len(show_posts),len(other_posts)))\n",
    "print(ask_posts[:5])\n",
    "print(\"*\"*50)\n",
    "print(show_posts[:5])"
   ]
  },
  {
   "cell_type": "code",
   "execution_count": 37,
   "metadata": {
    "collapsed": false
   },
   "outputs": [
    {
     "name": "stdout",
     "output_type": "stream",
     "text": [
      "Total number of Ask HN comments:24448\n",
      "Average number of ask comments are: 14.07\n",
      "Total number of Show HN comments: 11988\n",
      "Average number of show comments are: 10.32\n"
     ]
    }
   ],
   "source": [
    "#finding the total and average number of comments for both Ask Hn and \n",
    "#Show HN posts:\n",
    "total_ask_comments = 0\n",
    "for row in ask_posts:\n",
    "    comments = row[4]\n",
    "    comments = int(comments)\n",
    "    total_ask_comments += comments\n",
    "print(\"Total number of Ask HN comments:{}\".format(total_ask_comments))\n",
    "avg_ask_comments = total_ask_comments / len(ask_posts)\n",
    "print(\"Average number of ask comments are: {}\".format(round(avg_ask_comments,2)))\n",
    "\n",
    "total_show_comments = 0\n",
    "for row in show_posts:\n",
    "    comments = row[4]\n",
    "    comments = int(comments)\n",
    "    total_show_comments += comments\n",
    "print(\"Total number of Show HN comments: {}\".format(total_show_comments))\n",
    "avg_show_comments = total_show_comments / len(show_posts)\n",
    "print(\"Average number of show comments are: {}\".format(round(avg_show_comments,2)))"
   ]
  },
  {
   "cell_type": "markdown",
   "metadata": {},
   "source": [
    "In Hacker News website, the number of Ask HN comments are twice the number of Show HN comments."
   ]
  },
  {
   "cell_type": "code",
   "execution_count": 94,
   "metadata": {
    "collapsed": false
   },
   "outputs": [],
   "source": [
    "#Working with hours: parsing, formating etc. in order to find the results per hour\n",
    "import datetime as dt\n",
    "result_list = []\n",
    "\n",
    "for row in ask_posts:\n",
    "    created = row[6]\n",
    "    number = row[4]\n",
    "    number = int(number)\n",
    "    result_list.append([created,number])\n",
    "#print(result_list)\n",
    "\n",
    "counts_by_hour = {}\n",
    "comments_by_hour = {}\n",
    "\n",
    "for row in result_list:\n",
    "    date_st = row[0]\n",
    "    comment = row[1]\n",
    "    date = dt.datetime.strptime(date_st, \"%m/%d/%Y %H:%M\")\n",
    "    #print(date)\n",
    "    hour = dt.datetime.strftime(date, \"%H\")\n",
    "    #print(hour)\n",
    "    if hour not in counts_by_hour:\n",
    "        counts_by_hour[hour] = 1\n",
    "        comments_by_hour[hour] = comment\n",
    "    else:\n",
    "        counts_by_hour[hour] += 1\n",
    "        comments_by_hour[hour] += comment\n",
    "#print(counts_by_hour)\n",
    "#print(\"*\"*70)\n",
    "#print(comments_by_hour)\n",
    "\n",
    "\n"
   ]
  },
  {
   "cell_type": "code",
   "execution_count": 97,
   "metadata": {
    "collapsed": false
   },
   "outputs": [
    {
     "name": "stdout",
     "output_type": "stream",
     "text": [
      "[['00', 8.203703703703704], ['02', 23.810344827586206], ['03', 7.796296296296297], ['20', 21.525], ['17', 11.545454545454545], ['22', 6.746478873239437], ['16', 17.08490566037736], ['18', 13.20183486238532], ['09', 5.5777777777777775], ['23', 7.985294117647059], ['05', 10.08695652173913], ['04', 7.170212765957447], ['14', 13.233644859813085], ['19', 10.862385321100918], ['06', 9.022727272727273], ['21', 16.009174311926607], ['12', 9.41095890410959], ['13', 14.741176470588234], ['08', 10.25], ['01', 11.220338983050848], ['07', 7.852941176470588], ['15', 38.5948275862069], ['11', 11.051724137931034], ['10', 13.440677966101696]]\n",
      "8.203703703703704\n",
      "23.810344827586206\n",
      "7.796296296296297\n",
      "21.525\n",
      "11.545454545454545\n",
      "6.746478873239437\n",
      "17.08490566037736\n",
      "13.20183486238532\n",
      "5.5777777777777775\n",
      "7.985294117647059\n",
      "10.08695652173913\n",
      "7.170212765957447\n",
      "13.233644859813085\n",
      "10.862385321100918\n",
      "9.022727272727273\n",
      "16.009174311926607\n",
      "9.41095890410959\n",
      "14.741176470588234\n",
      "10.25\n",
      "11.220338983050848\n",
      "7.852941176470588\n",
      "38.5948275862069\n",
      "11.051724137931034\n",
      "13.440677966101696\n"
     ]
    }
   ],
   "source": [
    "#We'll combine the two list in order to find the average value for every hour\n",
    "\n",
    "average_list = []\n",
    "for hour in counts_by_hour:\n",
    "    average_list.append([hour, comments_by_hour[hour]/counts_by_hour[hour]])\n",
    "print(average_list)\n",
    "for row in average_list:\n",
    "    avg_by_hour = row[1]\n",
    "    print(avg_by_hour)"
   ]
  },
  {
   "cell_type": "code",
   "execution_count": 109,
   "metadata": {
    "collapsed": false
   },
   "outputs": [
    {
     "name": "stdout",
     "output_type": "stream",
     "text": [
      "[[8.203703703703704, '00'], [23.810344827586206, '02'], [7.796296296296297, '03'], [21.525, '20'], [11.545454545454545, '17'], [6.746478873239437, '22'], [17.08490566037736, '16'], [13.20183486238532, '18'], [5.5777777777777775, '09'], [7.985294117647059, '23'], [10.08695652173913, '05'], [7.170212765957447, '04'], [13.233644859813085, '14'], [10.862385321100918, '19'], [9.022727272727273, '06'], [16.009174311926607, '21'], [9.41095890410959, '12'], [14.741176470588234, '13'], [10.25, '08'], [11.220338983050848, '01'], [7.852941176470588, '07'], [38.5948275862069, '15'], [11.051724137931034, '11'], [13.440677966101696, '10']]\n",
      "Top 5 Hours for Ask Posts Comments\n",
      "15:00 38.59 average comments per post\n",
      "02:00 23.81 average comments per post\n",
      "20:00 21.52 average comments per post\n",
      "16:00 17.08 average comments per post\n",
      "21:00 16.01 average comments per post\n"
     ]
    }
   ],
   "source": [
    "#Our goal is to sort the list by the average number of comments. We'll swap the \n",
    "#elements' order in the list.\n",
    "\n",
    "swap_avg_by_hour = []\n",
    "for row in average_list:\n",
    "    number = row[1]\n",
    "    hour = row[0]\n",
    "    swap_avg_by_hour.append([number, hour])\n",
    "print(swap_avg_by_hour)\n",
    "\n",
    "sorted_swap = sorted(swap_avg_by_hour, reverse=True)\n",
    "print(\"Top 5 Hours for Ask Posts Comments\")\n",
    "for row in sorted_swap[:5]:\n",
    "    hour = dt.datetime.strptime(row[1], \"%H\").strftime(\"%H:%M\")\n",
    "    print(\"{} {:.2f} average comments per post\".format(hour,row[0]))\n",
    "    \n"
   ]
  }
 ],
 "metadata": {
  "kernelspec": {
   "display_name": "Python 3",
   "language": "python",
   "name": "python3"
  },
  "language_info": {
   "codemirror_mode": {
    "name": "ipython",
    "version": 3
   },
   "file_extension": ".py",
   "mimetype": "text/x-python",
   "name": "python",
   "nbconvert_exporter": "python",
   "pygments_lexer": "ipython3",
   "version": "3.4.3"
  }
 },
 "nbformat": 4,
 "nbformat_minor": 2
}
